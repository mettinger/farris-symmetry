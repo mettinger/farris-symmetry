{
 "cells": [
  {
   "cell_type": "code",
   "execution_count": null,
   "metadata": {
    "collapsed": true
   },
   "outputs": [],
   "source": [
    "%matplotlib notebook\n",
    "import numpy as np\n",
    "import matplotlib.pyplot as plt\n",
    "from PIL import Image\n",
    "from io import BytesIO\n",
    "from IPython.display import display\n",
    "import pdb\n",
    "from multiprocessing import Pool\n",
    "import os\n",
    "import pandas as pd\n",
    "import cv2"
   ]
  },
  {
   "cell_type": "markdown",
   "metadata": {},
   "source": [
    "## Load the list of images for possible colorwheels"
   ]
  },
  {
   "cell_type": "code",
   "execution_count": null,
   "metadata": {
    "collapsed": true
   },
   "outputs": [],
   "source": [
    "imageList = os.listdir('../images/')\n",
    "print \"Available images: \" + str(len(imageList))"
   ]
  },
  {
   "cell_type": "markdown",
   "metadata": {},
   "source": [
    "## Define the graphics and plotting functions"
   ]
  },
  {
   "cell_type": "code",
   "execution_count": null,
   "metadata": {
    "collapsed": true
   },
   "outputs": [],
   "source": [
    "# GRAPHICS FUNCTIONS\n",
    "\n",
    "def getRGB(z,minx,maxx,miny,maxy, imArray):\n",
    "    dimx,dimy,_ = imArray.shape\n",
    "    x = z.real\n",
    "    y = z.imag\n",
    "    xCoor = int(np.round(((x - minx)/float(maxx - minx)) * (dimx-1)))\n",
    "    # if maxy = miny and you get an error, this is a degeneracy. use complex coefficients in nmDict !!!!\n",
    "    yCoor = int(np.round(((y - miny)/float(maxy - miny)) * (dimy-1)))\n",
    "        \n",
    "    value = imArray[xCoor, yCoor, :]\n",
    "    return value\n",
    "\n",
    "def colorwheelApply(gridApply, imArray):\n",
    "    allx = [z.real for z in gridApply.values()]\n",
    "    ally = [z.imag for z in gridApply.values()]\n",
    "    minx = min(allx)\n",
    "    maxx = max(allx)\n",
    "    miny = min(ally)\n",
    "    maxy = max(ally)\n",
    "    \n",
    "    fundamentalDict = {}\n",
    "    for key,value in gridApply.items():\n",
    "        fundamentalDict[key] = getRGB(value,minx,maxx,miny,maxy, imArray)\n",
    "    return fundamentalDict\n",
    "\n",
    "\n",
    "def checkSymmetrySimple(gridApply):\n",
    "    \n",
    "    fundamentalDict = {}\n",
    "    for key,value in gridApply.items():\n",
    "         fundamentalDict[key] = np.array(((value.real * 1024) % 256 ,0, (value.imag * 1024) % 256), dtype='uint8')\n",
    "        \n",
    "    return fundamentalDict\n",
    "\n",
    "\n",
    "def checkSymmetrySimpleReal(gridApply):\n",
    "    \n",
    "    fundamentalDict = {}\n",
    "    allValues = [i.real for i in gridApply.values()]\n",
    "    minx = min(allValues)\n",
    "    maxx = max(allValues)\n",
    "    span = maxx - minx\n",
    "    for key,value in gridApply.items():\n",
    "         fundamentalDict[key] = np.array((int(((value.real - minx)/span) * 255),0,0), dtype = 'uint8')\n",
    "        \n",
    "    return fundamentalDict\n",
    "\n",
    "def checkSymmetrySimpleImag(gridApply):\n",
    "    \n",
    "    fundamentalDict = {}\n",
    "    allValues = [i.imag for i in gridApply.values()]\n",
    "    miny = min(allValues)\n",
    "    maxy = max(allValues)\n",
    "    span = maxy - miny\n",
    "    for key,value in gridApply.items():\n",
    "         fundamentalDict[key] = np.array((0,0,int(((value.imag - miny)/span) * 255)), dtype = 'uint8')\n",
    "        \n",
    "    return fundamentalDict\n",
    "\n",
    "def fundamentalColorGet(thisTuple):\n",
    "    \n",
    "    x,y = thisTuple[0]\n",
    "    fundamentalDict = thisTuple[1]\n",
    "    numStep = thisTuple[2]\n",
    "    i,j = thisTuple[3]\n",
    "    \n",
    "    # convert x,y to lattice basis\n",
    "    \n",
    "    xPrime, yPrime = np.dot(d,[x,y])\n",
    "    xIndex = int((xPrime % 1) * (numStep-1))\n",
    "    yIndex = int((yPrime % 1) * (numStep-1))\n",
    "    \n",
    "    value = fundamentalDict[(xIndex,yIndex)]\n",
    "    \n",
    "    return ((i,j), value)\n",
    "    \n",
    "\n",
    "def tileFundamental(fundamentalDict, numStep, xmin, xmax, ymin, ymax, resx, resy):\n",
    "\n",
    "    if resy == None:\n",
    "        resy = int((resx * (ymax-ymin))/float(xmax - xmin))\n",
    "        \n",
    "    xv = np.linspace(xmin, xmax, resx)\n",
    "    yv = np.linspace(ymin, ymax, resy)\n",
    "    \n",
    "    grid = [((x,y), fundamentalDict, numStep, (i,j)) for i,x in enumerate(xv) for j,y in enumerate(yv)]\n",
    "    coordinateDict = dict([fundamentalColorGet(i) for i in grid])\n",
    "    \n",
    "    imOut = np.zeros((resy, resx, 3), dtype='uint8')\n",
    "    for key,value in coordinateDict.items():\n",
    "        i,j = key\n",
    "        imOut[resy - j - 1, i, :] = value\n",
    "        \n",
    "    return imOut\n",
    "\n",
    "\n",
    "def latticeEval(thisTuple):\n",
    "    i,x,j,y,myF,nmDict,lattice_vector_1,lattice_vector_2 = thisTuple\n",
    "    \n",
    "    z = (x * lattice_vector_1) + (y * lattice_vector_2)\n",
    "    \n",
    "    return ((i,j), myF(nmDict)((z.real, z.imag)))\n",
    "\n",
    "\n",
    "def fundamentalCellDisplay(fundamentalDict, resx, resy):\n",
    "\n",
    "    extremePoints = [0., lattice_vector_1, lattice_vector_2, lattice_vector_1 + lattice_vector_2]\n",
    "    minx = min([i.real for i in extremePoints])\n",
    "    maxx = max([i.real for i in extremePoints])\n",
    "    miny = min([i.imag for i in extremePoints])\n",
    "    maxy = max([i.imag for i in extremePoints])\n",
    "    \n",
    "    gap = max([maxy - miny, maxx - minx])\n",
    "    maxx = minx + gap\n",
    "    maxy = miny + gap\n",
    "    \n",
    "    imOut = np.zeros((resy, resx, 3), dtype='uint8')\n",
    "    for key,value in fundamentalDict.items():\n",
    "        z = ((lattice_vector_1 * key[0]) + (lattice_vector_2 * key[1])) / numStep\n",
    "        x = z.real\n",
    "        y = z.imag\n",
    "        \n",
    "        i = int(((x - minx)/(maxx-minx)) * (resx-1))\n",
    "        j = int(((y - miny)/(maxy-miny)) * (resy-1))\n",
    "        imOut[resy - j - 1,i,:] = value\n",
    "     \n",
    "    display(Image.fromarray(imOut))\n",
    "\n",
    "    \n",
    "def colorWheelGet(imageList, index='random'):\n",
    "    \n",
    "    if index=='random':\n",
    "        imageName = np.random.choice(imageList)\n",
    "    elif type(index) == str:\n",
    "        imageName = index\n",
    "    else:\n",
    "        imageName = imageList[index]\n",
    "        \n",
    "    im = Image.open(\"../images/\" + imageName)\n",
    "    colorWheel = np.array(im)\n",
    "    print \"We use %s as the colorwheel!\" % imageName\n",
    "    print \"Image shape: \" + str(im.size)\n",
    "    return colorWheel, imageName"
   ]
  },
  {
   "cell_type": "markdown",
   "metadata": {},
   "source": [
    "## Here we define the essential symmetry functions, following the appendix in the book."
   ]
  },
  {
   "cell_type": "code",
   "execution_count": null,
   "metadata": {
    "collapsed": true
   },
   "outputs": [],
   "source": [
    "# SYMMETRY FUNCTIONS\n",
    "\n",
    "# GENERAL LATTICE\n",
    "def E_general(nmPair,x,y):\n",
    "    n,m = nmPair\n",
    "    a = lattice_vector_2.real\n",
    "    b = lattice_vector_2.imag\n",
    "    X = x - ((a * y)/b)\n",
    "    Y = y/b\n",
    "    value = np.exp(2 * np.pi * 1j * ((n * X) + (m * Y)))\n",
    "    return value\n",
    "\n",
    "def f_general(nmDict):\n",
    "    g = lambda xyPair : np.sum([value * E_general(key,xyPair[0],xyPair[1]) for key,value in nmDict.items()])\n",
    "    return g\n",
    "\n",
    "\n",
    "# RHOMBIC LATTICE\n",
    "def E_rhombic(nmPair,x,y):\n",
    "    n,m = nmPair\n",
    "    b = lattice_vector_2.imag\n",
    "    X = x + (y/(2.*b))\n",
    "    Y = x - (y/(2.*b))\n",
    "    value = np.exp(2 * np.pi * 1j * ((n * X) + (m * Y)))\n",
    "    return value\n",
    "\n",
    "def f_rhombic(nmDict):\n",
    "    g = lambda xyPair : np.sum([value * E_rhombic(key,xyPair[0],xyPair[1]) for key,value in nmDict.items()])\n",
    "    return g\n",
    "\n",
    "\n",
    "# RECTANGULAR LATTICE\n",
    "def E_rectangular(nmPair,x,y):\n",
    "    n,m = nmPair\n",
    "    L = lattice_vector_2.imag\n",
    "    X = x \n",
    "    Y = y/L\n",
    "    value = np.exp(2 * np.pi * 1j * ((n * X) + (m * Y)))\n",
    "    return value\n",
    "\n",
    "def f_rectagular(nmDict):\n",
    "    g = lambda xyPair : np.sum([value * E_rectangular(key,xyPair[0],xyPair[1]) for key,value in nmDict.items()])\n",
    "    return g\n",
    "\n",
    "\n",
    "# SQUARE LATTICE\n",
    "def E_square(nmPair,x,y):\n",
    "    n,m = nmPair\n",
    "    X = x \n",
    "    Y = y\n",
    "    value = np.exp(2 * np.pi * 1j * ((n * X) + (m * Y)))\n",
    "    return value\n",
    "\n",
    "def S(nmPair0,x,y):\n",
    "    n,m = nmPair0\n",
    "    nmPair1 = (m,-n)\n",
    "    nmPair2 = (-n,-m)\n",
    "    nmPair3 = (-m,n)\n",
    "    value = (E_square(nmPair0,x,y) + E_square(nmPair1,x,y) + E_square(nmPair2,x,y) + E_square(nmPair3,x,y))/4.\n",
    "    return value\n",
    "\n",
    "def f_square(nmDict):\n",
    "    g = lambda xyPair : np.sum([value * S(key,xyPair[0],xyPair[1]) for key,value in nmDict.items()])\n",
    "    return g\n",
    "\n",
    "# HEXAGONAL LATTICE\n",
    "def E_hex(nmPair,x,y):\n",
    "    n,m = nmPair\n",
    "    X = x + (y/np.sqrt(3))\n",
    "    Y = (2 * y)/np.sqrt(3)\n",
    "    value = np.exp(2 * np.pi * 1j * ((n * X) + (m * Y)))\n",
    "    return value\n",
    "\n",
    "def W(nmPair0,x,y):\n",
    "    n,m = nmPair0\n",
    "    nmPair1 = (m, -n - m)\n",
    "    nmPair2 = (-n - m, n)\n",
    "    value = (E_hex(nmPair0,x,y) + E_hex(nmPair1,x,y) + E_hex(nmPair2,x,y))/3.\n",
    "    return value\n",
    "\n",
    "def f_hex(nmDict):\n",
    "    g = lambda xyPair : np.sum([value * W(key,xyPair[0],xyPair[1]) for key,value in nmDict.items()])\n",
    "    return g\n"
   ]
  },
  {
   "cell_type": "markdown",
   "metadata": {},
   "source": [
    "## Set the lattice type and the symmetry group."
   ]
  },
  {
   "cell_type": "code",
   "execution_count": null,
   "metadata": {
    "collapsed": true
   },
   "outputs": [],
   "source": [
    "def functionAndLatticeGet(flag, latticeData):\n",
    "    \n",
    "    print \"We use the %s lattice.\" % flag\n",
    "    \n",
    "    if flag == 'general':\n",
    "        myF = f_general\n",
    "\n",
    "        # lattice_vector_2 is arbitrary\n",
    "        lattice_vector_1 = 1.\n",
    "        lattice_vector_2 = latticeData\n",
    "\n",
    "    elif flag == 'rhombic':\n",
    "        myF = f_rhombic\n",
    "\n",
    "        # lattice vectors are defined by b\n",
    "        b = latticeData\n",
    "        lattice_vector_1 = .5 + (b*1j)\n",
    "        lattice_vector_2 = .5 - (b*1j)\n",
    "\n",
    "    elif flag == 'rectangular':\n",
    "        myF = f_rectagular\n",
    "\n",
    "        # lattice vectors determined by L\n",
    "        L = latticeData\n",
    "        lattice_vector_1 = 1.\n",
    "        lattice_vector_2 = L * 1j\n",
    "\n",
    "    elif flag == 'square':\n",
    "        myF = f_square\n",
    "\n",
    "        # lattice vectors are fixed\n",
    "        lattice_vector_1 = 1.\n",
    "        lattice_vector_2 = 1j\n",
    "\n",
    "    elif flag == 'hexagonal':\n",
    "        myF = f_hex\n",
    "\n",
    "        # lattice vectors are fixed\n",
    "        lattice_vector_1 = 1.\n",
    "        lattice_vector_2 = (-1 + (1j * np.sqrt(3)))/2.\n",
    "\n",
    "\n",
    "    return (myF, lattice_vector_1, lattice_vector_2)\n",
    "\n",
    "def latticeTypeFromGroup(group):\n",
    "    \n",
    "    if group in ['p1','p2']:\n",
    "        latticeType = 'general'\n",
    "    elif group in ['cm','cmm']:\n",
    "        latticeType = 'rhombic'\n",
    "    elif group in ['p4','p4m','p4g']:\n",
    "        latticeType = 'square'\n",
    "    elif group in ['pm','pg','pmm','pmg','pgg']:\n",
    "        latticeType = 'rectangular'\n",
    "    elif group in ['p3','p31m','p3m1','p6','p6m']:\n",
    "        latticeType = 'hexagonal'\n",
    "    else:\n",
    "        print \"Invalid group...\"\n",
    "        return Non\n",
    "    \n",
    "    return latticeType\n",
    "\n",
    "def randomGroupGet():\n",
    "    allGroups = ['p1','p2','cm','cmm','p4','p4m','p4g','pm','pg','pmm','pmg','pgg','p3','p31m','p3m1','p6','p6m']\n",
    "    return np.random.choice(allGroups)\n"
   ]
  },
  {
   "cell_type": "markdown",
   "metadata": {},
   "source": [
    "## Functions for random wallpaper functions"
   ]
  },
  {
   "cell_type": "code",
   "execution_count": null,
   "metadata": {
    "collapsed": true
   },
   "outputs": [],
   "source": [
    "# RETURN A RANDOM INTEGER PAIR WITH GIVEN l_infinity NORM\n",
    "def uniform_nm_fixed_magnitude(magnitude):\n",
    "    a = np.random.randint(-magnitude, magnitude + 1)\n",
    "    flip = np.random.randint(0,2)\n",
    "    if flip:\n",
    "        magnitude = -magnitude\n",
    "        \n",
    "    flip = np.random.randint(0,2)\n",
    "    if flip:\n",
    "        return (magnitude, a)\n",
    "    else:\n",
    "        return (a, magnitude)\n",
    "    \n",
    "# GENERATE A RANDOM n,m PAIR\n",
    "def nmPairRandom(nmMagnitudeFunction):\n",
    "    magnitude = nmMagnitudeFunction()\n",
    "    return uniform_nm_fixed_magnitude(magnitude)\n",
    "\n",
    "\n",
    "# GENERATE A RANDOM COMPLEX NUMBER WITH UNIFORMLY RANDOM PHASE\n",
    "def randomComplex(magnitudeFunction):\n",
    "    \n",
    "    #uniformly random phase\n",
    "    randomPhase = np.random.uniform(0,2 * np.pi)\n",
    "    \n",
    "    #random magnitude\n",
    "    randomAbsoluteValue = magnitudeFunction()\n",
    "    \n",
    "    return randomAbsoluteValue * np.exp(1j * randomPhase)\n",
    "\n",
    "# GENERATE A RANDOM nmDict\n",
    "def nmDictRandom(groupType, numSampleCoeff, coefficientFunction, nmMagnitudeFunction):\n",
    "    \n",
    "    nmDict = {}\n",
    "    if groupType in ['p1','p4','p3']:\n",
    "        for i in range(numSampleCoeff):\n",
    "            nmPair = nmPairRandom(nmMagnitudeFunction)\n",
    "            a = randomComplex(coefficientFunction)\n",
    "            nmDict[nmPair] = a\n",
    "            \n",
    "    elif groupType in ['p2','p6']:\n",
    "        for i in range(numSampleCoeff/2):\n",
    "            nmPair = nmPairRandom(nmMagnitudeFunction)\n",
    "            a = randomComplex(coefficientFunction)\n",
    "            nmDict[nmPair] = a\n",
    "            n,m = nmPair\n",
    "            nmDict[(-n,-m)] = a\n",
    "            \n",
    "    elif groupType in ['cm','p4m','p31m']:\n",
    "        for i in range(numSampleCoeff/2):\n",
    "            nmPair = nmPairRandom(nmMagnitudeFunction)\n",
    "            a = randomComplex(coefficientFunction)\n",
    "            nmDict[nmPair] = a\n",
    "            n,m = nmPair\n",
    "            nmDict[(-n,-m)] = a\n",
    "            \n",
    "    elif groupType in ['cmm','p6m']:\n",
    "        for i in range(numSampleCoeff/4):\n",
    "            nmPair = nmPairRandom(nmMagnitudeFunction)\n",
    "            a = randomComplex(coefficientFunction)\n",
    "            nmDict[nmPair] = a\n",
    "            n,m = nmPair\n",
    "            nmDict[(-n,-m)] = a\n",
    "            nmDict[(m,n)] = a\n",
    "            nmDict[(-m,-n)] = a\n",
    "            \n",
    "    elif groupType in ['p4g']:\n",
    "        for i in range(numSampleCoeff/2):\n",
    "            nmPair = nmPairRandom(nmMagnitudeFunction)\n",
    "            a = randomComplex(coefficientFunction)\n",
    "            nmDict[nmPair] = a\n",
    "            n,m = nmPair\n",
    "            nmDict[(m,n)] = ((-1)**(n+m)) * a\n",
    "            \n",
    "    elif groupType in ['pm']:\n",
    "        for i in range(numSampleCoeff/2):\n",
    "            nmPair = nmPairRandom(nmMagnitudeFunction)\n",
    "            a = randomComplex(coefficientFunction)\n",
    "            nmDict[nmPair] = a\n",
    "            n,m = nmPair\n",
    "            nmDict[(n,-m)] = a\n",
    "            \n",
    "    elif groupType in ['pg']:\n",
    "        for i in range(numSampleCoeff/2):\n",
    "            nmPair = nmPairRandom(nmMagnitudeFunction)\n",
    "            a = randomComplex(coefficientFunction)\n",
    "            nmDict[nmPair] = a\n",
    "            n,m = nmPair\n",
    "            nmDict[(n,-m)] = ((-1)**n) * a\n",
    "            \n",
    "    elif groupType in ['pmm']:\n",
    "        for i in range(numSampleCoeff/4):\n",
    "            nmPair = nmPairRandom(nmMagnitudeFunction)\n",
    "            a = randomComplex(coefficientFunction)\n",
    "            nmDict[nmPair] = a\n",
    "            n,m = nmPair\n",
    "            nmDict[(-n,-m)] = a\n",
    "            nmDict[(-n,m)] = a\n",
    "            nmDict[(n,-m)] = a        \n",
    "    \n",
    "    elif groupType in ['pmg']:\n",
    "        for i in range(numSampleCoeff/4):\n",
    "            nmPair = nmPairRandom(nmMagnitudeFunction)\n",
    "            a = randomComplex(coefficientFunction)\n",
    "            nmDict[nmPair] = a\n",
    "            n,m = nmPair\n",
    "            nmDict[(-n,-m)] = a\n",
    "            nmDict[(n,-m)] = ((-1)**n) * a\n",
    "            nmDict[(-n,m)] = ((-1)**n) * a\n",
    "            \n",
    "    elif groupType in ['pgg']:\n",
    "        for i in range(numSampleCoeff/4):\n",
    "            nmPair = nmPairRandom(nmMagnitudeFunction)\n",
    "            a = randomComplex(coefficientFunction)\n",
    "            nmDict[nmPair] = a\n",
    "            n,m = nmPair\n",
    "            nmDict[(-n,-m)] = a\n",
    "            nmDict[(n,-m)] = ((-1)**(n+m)) * a\n",
    "            nmDict[(-n,m)] = ((-1)**(n+m)) * a\n",
    "            \n",
    "    elif groupType in ['p3m1']:\n",
    "        for i in range(numSampleCoeff/2):\n",
    "            nmPair = nmPairRandom(nmMagnitudeFunction)\n",
    "            a = randomComplex(coefficientFunction)\n",
    "            nmDict[nmPair] = a\n",
    "            n,m = nmPair\n",
    "            nmDict[(-m,-n)] = a\n",
    "            \n",
    "    return nmDict\n",
    "\n"
   ]
  },
  {
   "cell_type": "markdown",
   "metadata": {},
   "source": [
    "## Functions defining random distributions for n,m pairs and complex coefficients"
   ]
  },
  {
   "cell_type": "code",
   "execution_count": null,
   "metadata": {
    "collapsed": true
   },
   "outputs": [],
   "source": [
    "# n,m MAGNITUDE FUNCTIONS FOR nmPairRandom\n",
    "def geometricDist(p):\n",
    "    return lambda : np.random.geometric(p)\n",
    "\n",
    "\n",
    "# MAGNITUDE FUNCTIONS FOR randomComplex\n",
    "def exponentialDist(scale):\n",
    "    return lambda : np.random.exponential(scale)\n",
    "\n",
    "def constantDist(scale):\n",
    "    return lambda : scale"
   ]
  },
  {
   "cell_type": "markdown",
   "metadata": {},
   "source": [
    "## Load the colorwheel"
   ]
  },
  {
   "cell_type": "code",
   "execution_count": null,
   "metadata": {
    "collapsed": true
   },
   "outputs": [],
   "source": [
    "#imageIndex = -2 \n",
    "#imageIndex = 'file1651272386454.jpg'\n",
    "imageIndex = 'random'\n",
    "\n",
    "colorWheel, imageName = colorWheelGet(imageList,index = imageIndex)\n",
    "display(Image.fromarray(colorWheel))"
   ]
  },
  {
   "cell_type": "markdown",
   "metadata": {},
   "source": [
    "## Choose your symmetry!"
   ]
  },
  {
   "cell_type": "code",
   "execution_count": null,
   "metadata": {
    "collapsed": true
   },
   "outputs": [],
   "source": [
    "numStep = 1000 # number of steps along the two lattice vectors\n",
    "numCPU = 4 # number of CPUs to use with multiprocessing\n",
    "\n",
    "#groupType = 'pg'\n",
    "groupType = randomGroupGet()\n",
    "numSampleCoeff = 4\n",
    "coefficientFunction = exponentialDist(1.0)\n",
    "nmMagnitudeFunction = geometricDist(.6)\n",
    "\n",
    "latticeType = latticeTypeFromGroup(groupType)\n",
    "if latticeType == 'general':\n",
    "    latticeData = .5 + 1j \n",
    "elif latticeType == 'rhombic':\n",
    "    latticeData = .25\n",
    "elif latticeType == 'rectangular':\n",
    "    latticeData = 2\n",
    "else:\n",
    "    latticeData = None\n",
    "\n",
    "myF, lattice_vector_1, lattice_vector_2 = functionAndLatticeGet(latticeType, latticeData)\n",
    "nmDict = nmDictRandom(groupType, numSampleCoeff, coefficientFunction, nmMagnitudeFunction)\n",
    "\n",
    "# compute matrix \"d\" used for tiling a region by the fundamental cell\n",
    "c = np.array([[lattice_vector_1.real, lattice_vector_2.real],[lattice_vector_1.imag,lattice_vector_2.imag]])\n",
    "d = np.linalg.inv(c)\n",
    "\n",
    "print 'Group: ' + groupType\n",
    "print \"lattice_vector_1: \" + str(lattice_vector_1)\n",
    "print \"lattice_vector_2: \" + str(lattice_vector_2)\n",
    "print \"nmDict: \" + str(nmDict)"
   ]
  },
  {
   "cell_type": "markdown",
   "metadata": {},
   "source": [
    "## Calculate the complex function values on the fundamental cell grid"
   ]
  },
  {
   "cell_type": "code",
   "execution_count": null,
   "metadata": {
    "collapsed": true
   },
   "outputs": [],
   "source": [
    "v = np.linspace(0,1,numStep)\n",
    "\n",
    "if numStep <=200 or numCPU==1:\n",
    "    print \"computing\"\n",
    "    gridApply = dict([latticeEval((i,x,j,y,myF,nmDict,lattice_vector_1,lattice_vector_2)) for i,x in enumerate(v) for j,y in enumerate(v)])\n",
    "    print \"done computing...\"\n",
    "else:\n",
    "    pool = Pool(numCPU)\n",
    "    print \"computing...\"\n",
    "    grid = [(i,x,j,y,myF,nmDict,lattice_vector_1,lattice_vector_2) for i,x in enumerate(v) for j,y in enumerate(v)]\n",
    "    gridApply = dict(pool.map(latticeEval,grid))\n",
    "    pool.close()\n",
    "    print \"done computing...\""
   ]
  },
  {
   "cell_type": "markdown",
   "metadata": {},
   "source": [
    "## Visualize real part of function to detect lack of symmetry and coefficient degeneracies"
   ]
  },
  {
   "cell_type": "code",
   "execution_count": null,
   "metadata": {
    "collapsed": true
   },
   "outputs": [],
   "source": [
    "fundamentalRealDict = checkSymmetrySimpleReal(gridApply)\n",
    "fundamentalCellDisplay(fundamentalRealDict, 500,500)"
   ]
  },
  {
   "cell_type": "markdown",
   "metadata": {},
   "source": [
    "## Visualize imaginary part of function to detect lack of symmetry and coefficient degeneracies"
   ]
  },
  {
   "cell_type": "code",
   "execution_count": null,
   "metadata": {
    "collapsed": true
   },
   "outputs": [],
   "source": [
    "fundamentalImagDict = checkSymmetrySimpleImag(gridApply)\n",
    "fundamentalCellDisplay(fundamentalImagDict, 500,500)"
   ]
  },
  {
   "cell_type": "markdown",
   "metadata": {},
   "source": [
    "## Calculate the colors on the fundamental cell grid using the colorwheel"
   ]
  },
  {
   "cell_type": "code",
   "execution_count": null,
   "metadata": {
    "collapsed": true
   },
   "outputs": [],
   "source": [
    "fundamentalColorDict = colorwheelApply(gridApply, colorWheel)"
   ]
  },
  {
   "cell_type": "markdown",
   "metadata": {},
   "source": [
    "## Here is the fundamental cell using Farris' image colorwheel technique"
   ]
  },
  {
   "cell_type": "code",
   "execution_count": null,
   "metadata": {
    "collapsed": true
   },
   "outputs": [],
   "source": [
    "fundamentalCellDisplay(fundamentalColorDict, 500,500)"
   ]
  },
  {
   "cell_type": "markdown",
   "metadata": {},
   "source": [
    "## Here is a small piece of the wallpaper pattern"
   ]
  },
  {
   "cell_type": "code",
   "execution_count": null,
   "metadata": {
    "collapsed": true
   },
   "outputs": [],
   "source": [
    "imOut = tileFundamental(fundamentalColorDict, numStep, xmin=0, xmax=2, ymin=0, ymax=2, resx=500, resy=None)\n",
    "display(Image.fromarray(imOut))"
   ]
  },
  {
   "cell_type": "markdown",
   "metadata": {},
   "source": [
    "## Here is the fundamental cell using the alternative visualization technique"
   ]
  },
  {
   "cell_type": "code",
   "execution_count": null,
   "metadata": {
    "collapsed": true
   },
   "outputs": [],
   "source": [
    "fundamentalSimpleSymDict = checkSymmetrySimple(gridApply)\n",
    "fundamentalCellDisplay(fundamentalSimpleSymDict, 500,500)"
   ]
  },
  {
   "cell_type": "markdown",
   "metadata": {},
   "source": [
    "## Here is a small piece of the wallpaper pattern using alternative visualization"
   ]
  },
  {
   "cell_type": "code",
   "execution_count": null,
   "metadata": {
    "collapsed": true
   },
   "outputs": [],
   "source": [
    "imOut1 = tileFundamental(fundamentalSimpleSymDict, numStep, xmin=-1, xmax=1, ymin=-1, ymax=1, resx=1000, resy=None)\n",
    "display(Image.fromarray(imOut1))"
   ]
  },
  {
   "cell_type": "markdown",
   "metadata": {},
   "source": [
    "## Iterate.  Use the new wallpaper pattern as a colorwheel with the same specs!"
   ]
  },
  {
   "cell_type": "code",
   "execution_count": null,
   "metadata": {
    "collapsed": true
   },
   "outputs": [],
   "source": [
    "imRecursive = imOut"
   ]
  },
  {
   "cell_type": "code",
   "execution_count": null,
   "metadata": {
    "collapsed": true
   },
   "outputs": [],
   "source": [
    "fundamentalColorDict2 = colorwheelApply(gridApply, imRecursive)\n",
    "imRecursive = tileFundamental(fundamentalColorDict2, numStep, xmin=0, xmax=2, ymin=0, ymax=2, resx=500, resy=None)\n",
    "display(Image.fromarray(imRecursive))"
   ]
  },
  {
   "cell_type": "code",
   "execution_count": null,
   "metadata": {
    "collapsed": true
   },
   "outputs": [],
   "source": [
    "'''\n",
    "def symmetryExampleGet(latticeName):\n",
    "    if latticeName == 'random':\n",
    "        flag = np.random.choice(['general','rhombic','square','rectangular','hexagonal'])\n",
    "    else:\n",
    "        flag = latticeName\n",
    "\n",
    "    print \"We use the %s lattice.\" % flag\n",
    "\n",
    "\n",
    "    if flag == 'general':\n",
    "        myF = f_general\n",
    "\n",
    "        # lattice_vector_2 is arbitrary\n",
    "        lattice_vector_1 = 1.\n",
    "        lattice_vector_2 = 1j\n",
    "\n",
    "        #nmDict_p1 = {(1,0):1, (0,-1):1, (1,5):.5, (-5,-1):.5, (-2,4):.1*1j, (-4,2):.1*1j}\n",
    "        nmDict_p1 = {(1,0):1}\n",
    "        nmDict_p2 = {(1,0):1, (-1,0):1, (1,5):.5, (-1,-5):.5, (-2,4):.1*1j, (2,-4):.1*1j}\n",
    "\n",
    "        nmDict = nmDict_p1\n",
    "\n",
    "    elif flag == 'rhombic':\n",
    "        myF = f_rhombic\n",
    "\n",
    "        # lattice vectors are defined by b\n",
    "        b = .5\n",
    "        lattice_vector_1 = .5 + (b*1j)\n",
    "        lattice_vector_2 = .5 - (b*1j)\n",
    "\n",
    "        nmDict_cm = {(2,3):1j, (3,2):1j}\n",
    "        nmDict_cmm = {(2,3):1 + 1j, (3,2):1 + 1j, (-2,-3):1 + 1j, (-3,-2):1 + 1j}\n",
    "\n",
    "        nmDict = nmDict_cm\n",
    "\n",
    "    elif flag == 'rectangular':\n",
    "        myF = f_rectagular\n",
    "\n",
    "        # lattice vectors determined by L\n",
    "        L = 2.\n",
    "        lattice_vector_1 = 1.\n",
    "        lattice_vector_2 = L * 1j\n",
    "\n",
    "        nmDict_pm = {(1,2):1j, (1,-2):1j}\n",
    "        nmDict_pg = {(3,5):1 + 1j, (3,-5):-1-1j}\n",
    "        nmDict_pmm = {(1,2):1 + 1j, (-1,-2):1 + 1j, (-1,2):1 + 1j, (1,-2):1 + 1j}\n",
    "        nmDict_pmg = {(1,2):1 + 1j, (-1,-2):1 + 1j, (-1,2):-1 - 1j, (1,-2):-1 - 1j}\n",
    "        nmDict_pgg = {(1,1):1 + 1j, (-1,-1):1 + 1j, (-1,1):1 + 1j, (1,-1):1 + 1j}\n",
    "\n",
    "\n",
    "        nmDict = nmDict_pgg\n",
    "\n",
    "    elif flag == 'square':\n",
    "        myF = f_square\n",
    "\n",
    "        # lattice vectors are fixed\n",
    "        lattice_vector_1 = 1.\n",
    "        lattice_vector_2 = 1j\n",
    "\n",
    "        nmDict_p4 = {(1,0):1, (0,-1):1, (1,5):.5, (-5,-1):.5, (-2,4):.1*1j, (-4,2):.1*1j} \n",
    "        nmDict_p4m = {(1,0):1, (0,1):1, (-1,-5):.5, (-5,-1):.5, (-2,4):.1*1j, (4,-2):.1*1j}\n",
    "        nmDict_p4g = {(1,2):1j, (2,1):-1j, (-1,3):5, (3,-1):5}\n",
    "\n",
    "        nmDict = nmDict_p4g\n",
    "\n",
    "    elif flag == 'hexagonal':\n",
    "        myF = f_hex\n",
    "\n",
    "        # lattice vectors are fixed\n",
    "        lattice_vector_1 = 1.\n",
    "        lattice_vector_2 = (-1 + (1j * np.sqrt(3)))/2.\n",
    "\n",
    "        #nmDict_p3 = {(1,0):1, (0,-1):1, (1,5):.5, (-5,-1):.5, (-2,4):.1*1j, (-4,2):.1*1j} \n",
    "        nmDict_p3 = {(1,0):1}\n",
    "        nmDict_p31m = {(2,4):2 + 1j, (4,2):2 + 1j} \n",
    "        nmDict_p3m1 = {(2,4):2 + 1j, (-4,-2):2 + 1j} \n",
    "        nmDict_p6 = {(1,0):2 + 1j, (-1,0):2 + 1j} \n",
    "        nmDict_p6m = {(1,3):2 + 1j, (-1,-3):2 + 1j, (3,1):2 + 1j, (-3,-1):2 + 1j} \n",
    "\n",
    "        nmDict = nmDict_p3\n",
    "\n",
    "    else:\n",
    "        raise Exception('bad type...')\n",
    "    \n",
    "    return (lattice_vector_1, lattice_vector_2, nmDict, myF)\n",
    "'''"
   ]
  },
  {
   "cell_type": "code",
   "execution_count": null,
   "metadata": {
    "collapsed": true
   },
   "outputs": [],
   "source": []
  }
 ],
 "metadata": {
  "anaconda-cloud": {},
  "kernelspec": {
   "display_name": "Python [default]",
   "language": "python",
   "name": "python2"
  },
  "language_info": {
   "codemirror_mode": {
    "name": "ipython",
    "version": 2
   },
   "file_extension": ".py",
   "mimetype": "text/x-python",
   "name": "python",
   "nbconvert_exporter": "python",
   "pygments_lexer": "ipython2",
   "version": "2.7.13"
  }
 },
 "nbformat": 4,
 "nbformat_minor": 2
}
