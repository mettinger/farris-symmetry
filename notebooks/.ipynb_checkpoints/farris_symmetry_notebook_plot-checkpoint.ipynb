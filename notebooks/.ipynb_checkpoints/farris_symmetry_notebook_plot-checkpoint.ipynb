{
 "cells": [
  {
   "cell_type": "code",
   "execution_count": null,
   "metadata": {
    "collapsed": true
   },
   "outputs": [],
   "source": [
    "%matplotlib notebook\n",
    "from farris_symmetry import *"
   ]
  },
  {
   "cell_type": "code",
   "execution_count": null,
   "metadata": {},
   "outputs": [],
   "source": [
    "\n",
    "def fundamentalCellDisplay(fundamentalDict, resx, resy):\n",
    "\n",
    "    extremePoints = [0., lattice_vector_1, lattice_vector_2, lattice_vector_1 + lattice_vector_2]\n",
    "    minx = min([i.real for i in extremePoints])\n",
    "    maxx = max([i.real for i in extremePoints])\n",
    "    miny = min([i.imag for i in extremePoints])\n",
    "    maxy = max([i.imag for i in extremePoints])\n",
    "    \n",
    "    gap = max([maxy - miny, maxx - minx])\n",
    "    maxx = minx + gap\n",
    "    maxy = miny + gap\n",
    "    \n",
    "    imOut = np.zeros((resy, resx, 3), dtype='uint8')\n",
    "    for key,value in fundamentalDict.items():\n",
    "        z = ((lattice_vector_1 * key[0]) + (lattice_vector_2 * key[1])) / numStep\n",
    "        x = z.real\n",
    "        y = z.imag\n",
    "        \n",
    "        i = int(((x - minx)/(maxx-minx)) * (resx-1))\n",
    "        j = int(((y - miny)/(maxy-miny)) * (resy-1))\n",
    "        imOut[resy - j - 1,i,:] = value\n",
    "     \n",
    "    display(Image.fromarray(imOut))"
   ]
  },
  {
   "cell_type": "markdown",
   "metadata": {},
   "source": [
    "## Load the colorwheel"
   ]
  },
  {
   "cell_type": "code",
   "execution_count": null,
   "metadata": {},
   "outputs": [],
   "source": [
    "#imageIndex = -2 \n",
    "#imageIndex = 'file1651272386454.jpg'\n",
    "imageIndex = 'random'\n",
    "\n",
    "colorWheel, imageName = colorWheelGet(imageList,index = imageIndex)\n",
    "display(Image.fromarray(colorWheel))"
   ]
  },
  {
   "cell_type": "markdown",
   "metadata": {},
   "source": [
    "## Choose your symmetry!"
   ]
  },
  {
   "cell_type": "code",
   "execution_count": null,
   "metadata": {},
   "outputs": [],
   "source": [
    "numStep = 1000 # number of steps along the two lattice vectors\n",
    "numCPU = 4 # number of CPUs to use with multiprocessing\n",
    "\n",
    "#groupType = 'pg'\n",
    "groupType = randomGroupGet()\n",
    "numSampleCoeff = 4\n",
    "coefficientFunction = exponentialDist(1.0)\n",
    "nmMagnitudeFunction = geometricDist(.6)\n",
    "\n",
    "latticeType = latticeTypeFromGroup(groupType)\n",
    "if latticeType == 'general':\n",
    "    latticeData = .5 + 1j \n",
    "elif latticeType == 'rhombic':\n",
    "    latticeData = .25\n",
    "elif latticeType == 'rectangular':\n",
    "    latticeData = 2\n",
    "else:\n",
    "    latticeData = None\n",
    "\n",
    "myF, lattice_vector_1, lattice_vector_2 = functionAndLatticeGet(latticeType, latticeData)\n",
    "nmDict = nmDictRandom(groupType, numSampleCoeff, coefficientFunction, nmMagnitudeFunction)\n",
    "\n",
    "# compute matrix \"d\" used for tiling a region by the fundamental cell\n",
    "#c = np.array([[lattice_vector_1.real, lattice_vector_2.real],[lattice_vector_1.imag,lattice_vector_2.imag]])\n",
    "#d = np.linalg.inv(c)\n",
    "\n",
    "print 'Group: ' + groupType\n",
    "print \"lattice_vector_1: \" + str(lattice_vector_1)\n",
    "print \"lattice_vector_2: \" + str(lattice_vector_2)\n",
    "print \"nmDict: \" + str(nmDict)"
   ]
  },
  {
   "cell_type": "markdown",
   "metadata": {},
   "source": [
    "## Calculate the complex function values on the fundamental cell grid"
   ]
  },
  {
   "cell_type": "code",
   "execution_count": null,
   "metadata": {},
   "outputs": [],
   "source": [
    "v = np.linspace(0,1,numStep)\n",
    "\n",
    "if numStep <=200 or numCPU==1:\n",
    "    print \"computing\"\n",
    "    gridApply = dict([latticeEval((i,x,j,y,myF,nmDict,lattice_vector_1,lattice_vector_2)) for i,x in enumerate(v) for j,y in enumerate(v)])\n",
    "    print \"done computing...\"\n",
    "else:\n",
    "    pool = Pool(numCPU)\n",
    "    print \"computing...\"\n",
    "    grid = [(i,x,j,y,myF,nmDict,lattice_vector_1,lattice_vector_2) for i,x in enumerate(v) for j,y in enumerate(v)]\n",
    "    gridApply = dict(pool.map(latticeEval,grid))\n",
    "    pool.close()\n",
    "    print \"done computing...\""
   ]
  },
  {
   "cell_type": "markdown",
   "metadata": {},
   "source": [
    "## Visualize real part of function to detect lack of symmetry and coefficient degeneracies"
   ]
  },
  {
   "cell_type": "code",
   "execution_count": null,
   "metadata": {},
   "outputs": [],
   "source": [
    "fundamentalRealDict = checkSymmetrySimpleReal(gridApply)\n",
    "fundamentalCellDisplay(fundamentalRealDict, 500,500)"
   ]
  },
  {
   "cell_type": "markdown",
   "metadata": {},
   "source": [
    "## Visualize imaginary part of function to detect lack of symmetry and coefficient degeneracies"
   ]
  },
  {
   "cell_type": "code",
   "execution_count": null,
   "metadata": {},
   "outputs": [],
   "source": [
    "fundamentalImagDict = checkSymmetrySimpleImag(gridApply)\n",
    "fundamentalCellDisplay(fundamentalImagDict, 500,500)"
   ]
  },
  {
   "cell_type": "markdown",
   "metadata": {},
   "source": [
    "## Calculate the colors on the fundamental cell grid using the colorwheel"
   ]
  },
  {
   "cell_type": "code",
   "execution_count": null,
   "metadata": {
    "collapsed": true
   },
   "outputs": [],
   "source": [
    "fundamentalColorDict = colorwheelApply(gridApply, colorWheel)"
   ]
  },
  {
   "cell_type": "markdown",
   "metadata": {},
   "source": [
    "## Here is the fundamental cell using Farris' image colorwheel technique"
   ]
  },
  {
   "cell_type": "code",
   "execution_count": null,
   "metadata": {},
   "outputs": [],
   "source": [
    "fundamentalCellDisplay(fundamentalColorDict, 500,500)"
   ]
  },
  {
   "cell_type": "markdown",
   "metadata": {},
   "source": [
    "## Here is a small piece of the wallpaper pattern"
   ]
  },
  {
   "cell_type": "code",
   "execution_count": null,
   "metadata": {},
   "outputs": [],
   "source": [
    "xmin,xmax = -1,1\n",
    "ymin,ymax = -1,1\n",
    "resx, resy = 500,500\n",
    "\n",
    "imOut = tileFundamental(fundamentalColorDict, \n",
    "                            numStep, \n",
    "                            lattice_vector_1,\n",
    "                            lattice_vector_2,\n",
    "                            xmin=xmin, \n",
    "                            xmax=xmax, \n",
    "                            ymin=ymin, \n",
    "                            ymax=ymax, \n",
    "                            resx=resx, \n",
    "                            resy=resy)\n",
    "display(Image.fromarray(imOut))"
   ]
  },
  {
   "cell_type": "markdown",
   "metadata": {},
   "source": [
    "## Here is the fundamental cell using the alternative visualization technique"
   ]
  },
  {
   "cell_type": "code",
   "execution_count": null,
   "metadata": {},
   "outputs": [],
   "source": [
    "fundamentalSimpleSymDict = checkSymmetrySimple(gridApply)\n",
    "fundamentalCellDisplay(fundamentalSimpleSymDict, 500,500)"
   ]
  },
  {
   "cell_type": "markdown",
   "metadata": {},
   "source": [
    "## Here is a small piece of the wallpaper pattern using alternative visualization"
   ]
  },
  {
   "cell_type": "code",
   "execution_count": null,
   "metadata": {},
   "outputs": [],
   "source": [
    "imOut1 = tileFundamental(fundamentalSimpleSymDict, \n",
    "                            numStep, \n",
    "                            lattice_vector_1,\n",
    "                            lattice_vector_2,\n",
    "                            xmin=xmin, \n",
    "                            xmax=xmax, \n",
    "                            ymin=ymin, \n",
    "                            ymax=ymax, \n",
    "                            resx=resx, \n",
    "                            resy=resy)\n",
    "display(Image.fromarray(imOut1))"
   ]
  },
  {
   "cell_type": "markdown",
   "metadata": {},
   "source": [
    "## Iterate.  Use the new wallpaper pattern as a colorwheel with the same specs!"
   ]
  },
  {
   "cell_type": "code",
   "execution_count": null,
   "metadata": {
    "collapsed": true
   },
   "outputs": [],
   "source": [
    "imRecursive = imOut"
   ]
  },
  {
   "cell_type": "code",
   "execution_count": null,
   "metadata": {},
   "outputs": [],
   "source": [
    "fundamentalColorDict2 = colorwheelApply(gridApply, imRecursive)\n",
    "imRecursive = tileFundamental(fundamentalColorDict2, \n",
    "                            numStep, \n",
    "                            lattice_vector_1,\n",
    "                            lattice_vector_2,\n",
    "                            xmin=xmin, \n",
    "                            xmax=xmax, \n",
    "                            ymin=ymin, \n",
    "                            ymax=ymax, \n",
    "                            resx=resx, \n",
    "                            resy=resy)\n",
    "display(Image.fromarray(imRecursive))"
   ]
  },
  {
   "cell_type": "code",
   "execution_count": null,
   "metadata": {
    "collapsed": true
   },
   "outputs": [],
   "source": []
  }
 ],
 "metadata": {
  "anaconda-cloud": {},
  "kernelspec": {
   "display_name": "Python [default]",
   "language": "python",
   "name": "python2"
  },
  "language_info": {
   "codemirror_mode": {
    "name": "ipython",
    "version": 2
   },
   "file_extension": ".py",
   "mimetype": "text/x-python",
   "name": "python",
   "nbconvert_exporter": "python",
   "pygments_lexer": "ipython2",
   "version": "2.7.13"
  }
 },
 "nbformat": 4,
 "nbformat_minor": 2
}
